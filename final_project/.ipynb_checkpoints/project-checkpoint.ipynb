{
 "cells": [
  {
   "cell_type": "markdown",
   "metadata": {},
   "source": [
    "**Part 1**\n",
    "***"
   ]
  },
  {
   "cell_type": "markdown",
   "metadata": {},
   "source": [
    "**Part 1 - Process:**\n",
    "\n",
    "\n",
    "- Unzip the file provided\n",
    "- changed my directories to those of the different features\n",
    "- Opended each individual file with pandas\n",
    "- Saved those files as data frames\n",
    "- Utilized pd.concat to concatenate all frames for each file in each feature directory into one\n",
    "- I used pd.join to join the concatenated feature dataframes\n",
    "- I then ordered the features using df.reindex_axis(sorted(df.columns), axis=1)\n",
    "- I filled all NaN values with the mode of each feature and used df.to_csv to save the joined dataframe into a file data.csv\n",
    "***"
   ]
  },
  {
   "cell_type": "code",
   "execution_count": 365,
   "metadata": {
    "collapsed": true,
    "scrolled": true
   },
   "outputs": [],
   "source": [
    "import pandas as pd\n",
    "import numpy as np\n",
    "df = pd.read_csv('data.csv', index_col = 'iD')"
   ]
  },
  {
   "cell_type": "markdown",
   "metadata": {},
   "source": [
    "**Part 2**\n",
    "***"
   ]
  },
  {
   "cell_type": "markdown",
   "metadata": {},
   "source": [
    "**Part 2 - Process**\n",
    "***\n",
    "**Numerical Representation**\n",
    "- Numerical Features\n",
    "  - I gathered the values of the different feautres within the dataframe \n",
    "   - I created the dataframe from the csv generated in Part 1\n",
    "  - I setup a new column in the new dataframe that would bin the data from the original features it was referencing into quantiles\n",
    "  - These bins represented the mean value for each value within their repective bins.\n",
    "  - Then I grouped the binned data via the quantile(s) as the indicies and the label as the column\n",
    "   - I generated the percentage in which each quantile correlated to the label of 1\n",
    "  - Each size value for each quantile was found using value counts on each bin when I generated the quantile column on the new_df DataFrame that was a copy of the original df DataFrame\n",
    "  - Finally I merged all of the data with respect to the quantiles' size and its correlation value and put it all in one DataFrame\n",
    "- Categorical Features\n",
    "  - I only generated a pivot table that had the label column as the value\n",
    "  - The index was the unique values of the categorical features \n",
    "  - Each table also portrays the correlation percentage for each binning of all the unique values\n",
    "  - Each size value for each unique category was found using a mask on the original df DataFrame to calculate the sum total times each categorical value showed of in each feature set\n",
    "  - Finally I merged all of the data with respect to the categories' size and its correlation value and put it all in one DataFrame\n",
    "***\n",
    "**Visual Representation**\n",
    "- Numerical Features\n",
    "  - Each plot has the x-axis representing the mean value of each\n",
    "  bin that is represented.\n",
    "  - the y-axis is representative of the mean value of the labels each value has within each bin\n",
    "  - Each size value for each quantile was gathered from the DataFrame used to quantify the difference between the different quantiles' correlation values and the total times they appear in each feature set\n",
    "- Categorical Features\n",
    "  - Each plot has the x-axis representing the unique values in the feature\n",
    "  - the values on the x-axis have each \n",
    "  - the y-axis is representative of the mean of the labels of each value within each bin\n",
    "  - Each size value for each quantile was gathered from the DataFrame used to quantify the difference between the different categorical values' correlation values and the total times they appear in each feature set\n",
    "***"
   ]
  },
  {
   "cell_type": "code",
   "execution_count": 795,
   "metadata": {},
   "outputs": [],
   "source": [
    "# Creating DataFrame for Quantitative Evidence\n",
    "pivot_12_interest = [('v00', 34.62, '26'), ('v11', 37.78, '45'), ('v25', 5.09, '904'), ('v35', 40.32, '62'), ('v38', 24.40, '44,913'), ('v40', 36.36, '22')]\n",
    "pivot_12_interest_df = pd.DataFrame (data = pivot_12_interest, columns = ['Category', 'Corr.', 'Size'])"
   ]
  },
  {
   "cell_type": "code",
   "execution_count": 796,
   "metadata": {},
   "outputs": [],
   "source": [
    "# Qualitative Evidence\n",
    "%matplotlib inline\n",
    "import numpy as np\n",
    "import matplotlib.pyplot \n",
    "plt.style.use('seaborn-white')"
   ]
  },
  {
   "cell_type": "code",
   "execution_count": 797,
   "metadata": {
    "scrolled": true
   },
   "outputs": [],
   "source": [
    "import numpy as np\n",
    "# x-axis values\n",
    "columns_12 = ['v00','v11', 'v25', 'v35', 'v38', 'v40']\n",
    "# mean correlation for all features with respect to label\n",
    "baseline = 23.92\n",
    "# y-axis values\n",
    "awesome_features = [34.62-baseline , 37.78-baseline , 5.09-baseline , 40.32-baseline , 24.40-baseline , 36.36-baseline ]"
   ]
  },
  {
   "cell_type": "code",
   "execution_count": 798,
   "metadata": {},
   "outputs": [
    {
     "data": {
      "text/html": [
       "<div>\n",
       "<style>\n",
       "    .dataframe thead tr:only-child th {\n",
       "        text-align: right;\n",
       "    }\n",
       "\n",
       "    .dataframe thead th {\n",
       "        text-align: left;\n",
       "    }\n",
       "\n",
       "    .dataframe tbody tr th {\n",
       "        vertical-align: top;\n",
       "    }\n",
       "</style>\n",
       "<table border=\"1\" class=\"dataframe\">\n",
       "  <thead>\n",
       "    <tr style=\"text-align: right;\">\n",
       "      <th></th>\n",
       "      <th>Category</th>\n",
       "      <th>Corr.</th>\n",
       "      <th>Size</th>\n",
       "    </tr>\n",
       "  </thead>\n",
       "  <tbody>\n",
       "    <tr>\n",
       "      <th>0</th>\n",
       "      <td>v00</td>\n",
       "      <td>34.62</td>\n",
       "      <td>26</td>\n",
       "    </tr>\n",
       "    <tr>\n",
       "      <th>1</th>\n",
       "      <td>v11</td>\n",
       "      <td>37.78</td>\n",
       "      <td>45</td>\n",
       "    </tr>\n",
       "    <tr>\n",
       "      <th>2</th>\n",
       "      <td>v25</td>\n",
       "      <td>5.09</td>\n",
       "      <td>904</td>\n",
       "    </tr>\n",
       "    <tr>\n",
       "      <th>3</th>\n",
       "      <td>v35</td>\n",
       "      <td>40.32</td>\n",
       "      <td>62</td>\n",
       "    </tr>\n",
       "    <tr>\n",
       "      <th>4</th>\n",
       "      <td>v38</td>\n",
       "      <td>24.40</td>\n",
       "      <td>44,913</td>\n",
       "    </tr>\n",
       "    <tr>\n",
       "      <th>5</th>\n",
       "      <td>v40</td>\n",
       "      <td>36.36</td>\n",
       "      <td>22</td>\n",
       "    </tr>\n",
       "  </tbody>\n",
       "</table>\n",
       "</div>"
      ],
      "text/plain": [
       "  Category  Corr.    Size\n",
       "0      v00  34.62      26\n",
       "1      v11  37.78      45\n",
       "2      v25   5.09     904\n",
       "3      v35  40.32      62\n",
       "4      v38  24.40  44,913\n",
       "5      v40  36.36      22"
      ]
     },
     "execution_count": 798,
     "metadata": {},
     "output_type": "execute_result"
    },
    {
     "data": {
      "image/png": "[encoded data removed]",
      "text/plain": [
       "<matplotlib.figure.Figure at 0x1a1fc13160>"
      ]
     },
     "metadata": {},
     "output_type": "display_data"
    }
   ],
   "source": [
    "fig, ax = plt.subplots()\n",
    "# plotting x-axis and y-axis\n",
    "ax.bar(columns, awesome_features, bottom=baseline)\n",
    "# the black line on the graph is the mean correlation for all features (approx.(11k / 48k))\n",
    "ax.axhline(y=23.92, xmin=0, xmax=1, linewidth=2, color = 'k')\n",
    "ax.grid()\n",
    "# Annotations for Text of amount in each bin of unique values\n",
    "ax.annotate('size=26', xy=(-0.3, 35))\n",
    "ax.annotate('size=45', xy=(0.7, 38))\n",
    "ax.annotate('size=904', xy=(1.6, 3.8))\n",
    "ax.annotate('size=62', xy=(2.67, 40.5))\n",
    "ax.annotate('size=44,913', xy=(3.51, 25))\n",
    "ax.annotate('size=22', xy=(4.67, 37))\n",
    "ax.set_ylabel('Correlation')\n",
    "ax.set_xlabel('Categorical Value')\n",
    "ax.set_title('Feature 12 Correlation to Size Graph ')\n",
    "pivot_12_interest_df "
   ]
  },
  {
   "cell_type": "markdown",
   "metadata": {},
   "source": [
    "**Feature 12 Visual and Quantitative Evidence**\n",
    "- I created a Data Frame that contained the size and correlation of all unique values within this feature set that I deemed worthy\n",
    "  - I found what was worthy by searching for differences between the categories' sizes and their correlation to their individual labels\n",
    "- I also plotted the results of the DataFrame with the baseline being the mean label correlation for the entire dataset 23.92.\n",
    "- On top of each bar I made a record of the amount of each categorical value.\n",
    "- The y-axis showcases the correlation values, while the x-axis showcases what category has said correlation and size.\n",
    "***"
   ]
  },
  {
   "cell_type": "code",
   "execution_count": 787,
   "metadata": {},
   "outputs": [],
   "source": [
    "# Creating DataFrame for Quantitative Evidence\n",
    "pivot_11_interest = [('20.4995', 21.41, '34,468'), ('69.5000', 29.97, '14,374')]\n",
    "pivot_11_interest_df = pd.DataFrame (data = pivot_11_interest, columns = ['Quantile', 'Corr.', 'Size'])"
   ]
  },
  {
   "cell_type": "code",
   "execution_count": 788,
   "metadata": {
    "collapsed": true
   },
   "outputs": [],
   "source": [
    "# Qualitative Evidence\n",
    "%matplotlib inline\n",
    "import numpy as np\n",
    "import matplotlib.pyplot \n",
    "plt.style.use('seaborn-white')"
   ]
  },
  {
   "cell_type": "code",
   "execution_count": 789,
   "metadata": {
    "collapsed": true
   },
   "outputs": [],
   "source": [
    "import numpy as np\n",
    "# x-axis values\n",
    "columns_f11 = ['20.4995','69.5000']\n",
    "# mean correlation for all features with respect to label\n",
    "baseline = 23.92\n",
    "# y-axis values\n",
    "values_f11 = [21.41-baseline, 29.97-baseline]"
   ]
  },
  {
   "cell_type": "code",
   "execution_count": 790,
   "metadata": {},
   "outputs": [
    {
     "data": {
      "text/html": [
       "<div>\n",
       "<style>\n",
       "    .dataframe thead tr:only-child th {\n",
       "        text-align: right;\n",
       "    }\n",
       "\n",
       "    .dataframe thead th {\n",
       "        text-align: left;\n",
       "    }\n",
       "\n",
       "    .dataframe tbody tr th {\n",
       "        vertical-align: top;\n",
       "    }\n",
       "</style>\n",
       "<table border=\"1\" class=\"dataframe\">\n",
       "  <thead>\n",
       "    <tr style=\"text-align: right;\">\n",
       "      <th></th>\n",
       "      <th>Quantile</th>\n",
       "      <th>Corr.</th>\n",
       "      <th>Size</th>\n",
       "    </tr>\n",
       "  </thead>\n",
       "  <tbody>\n",
       "    <tr>\n",
       "      <th>0</th>\n",
       "      <td>20.4995</td>\n",
       "      <td>21.41</td>\n",
       "      <td>34,468</td>\n",
       "    </tr>\n",
       "    <tr>\n",
       "      <th>1</th>\n",
       "      <td>69.5000</td>\n",
       "      <td>29.97</td>\n",
       "      <td>14,374</td>\n",
       "    </tr>\n",
       "  </tbody>\n",
       "</table>\n",
       "</div>"
      ],
      "text/plain": [
       "  Quantile  Corr.    Size\n",
       "0  20.4995  21.41  34,468\n",
       "1  69.5000  29.97  14,374"
      ]
     },
     "execution_count": 790,
     "metadata": {},
     "output_type": "execute_result"
    },
    {
     "data": {
      "image/png": "[encoded data removed]",
      "text/plain": [
       "<matplotlib.figure.Figure at 0x1a2060b860>"
      ]
     },
     "metadata": {},
     "output_type": "display_data"
    }
   ],
   "source": [
    "fig, ax = plt.subplots()\n",
    "# plotting x-axis and y-axis\n",
    "ax.bar(columns_f11, values_f11, bottom=baseline)\n",
    "# the black line on the graph is the mean correlation for all features (approx.(11k / 48k))\n",
    "ax.axhline(y=23.92, xmin=0, xmax=1, linewidth=2, color = 'k')\n",
    "ax.grid()\n",
    "# Annotations for Text of amount in each bin \n",
    "ax.annotate('size=34,468', xy=(-0.2, 21.1))\n",
    "ax.annotate('size=14,374', xy=(0.9, 30.05))\n",
    "ax.set_ylabel('Correlation')\n",
    "ax.set_xlabel('Quantile')\n",
    "ax.set_title('Feature 11 Correlation to Size Graph ')\n",
    "pivot_11_interest_df "
   ]
  },
  {
   "cell_type": "markdown",
   "metadata": {},
   "source": [
    "**Feature 11 Visual and Quantitative Evidence**\n",
    "- I created a Data Frame that contained the size and correlation of all quantiles within this feature set that I deemed worthy\n",
    "  - I found what was worthy by searching for differences between the quantiles' sizes and their correlation to their individual labels\n",
    "- I also plotted the results of the DataFrame with the baseline being the mean label correlation for the entire dataset 23.92.\n",
    "- On top of each bar I made a record of the amount of each quantile.\n",
    "- The y-axis showcases the correlation values, while the x-axis showcases what quantile has said correlation and size.\n",
    "***"
   ]
  },
  {
   "cell_type": "code",
   "execution_count": 479,
   "metadata": {
    "collapsed": true
   },
   "outputs": [],
   "source": [
    "# Creating DataFrame for Quantitative Evidence\n",
    "pivot_08_interest = [('v00', 11.00, '15,275'), ('v01', 29.81, '33,567')]\n",
    "pivot_08_interest_df = pd.DataFrame (data = pivot_08_interest, columns = ['Category', 'Corr.', 'Size'])"
   ]
  },
  {
   "cell_type": "code",
   "execution_count": 480,
   "metadata": {
    "collapsed": true
   },
   "outputs": [],
   "source": [
    "# Qualitative Evidence\n",
    "%matplotlib inline\n",
    "import numpy as np\n",
    "import matplotlib.pyplot \n",
    "plt.style.use('seaborn-white')"
   ]
  },
  {
   "cell_type": "code",
   "execution_count": 481,
   "metadata": {
    "collapsed": true
   },
   "outputs": [],
   "source": [
    "import numpy as np\n",
    "# x-axis values\n",
    "columns_f08 = ['v00','v01']\n",
    "# mean correlation for all features with respect to label\n",
    "baseline = 23.92\n",
    "# y-axis values\n",
    "values_f08 = [11.00-baseline, 29.81-baseline]"
   ]
  },
  {
   "cell_type": "code",
   "execution_count": 482,
   "metadata": {},
   "outputs": [
    {
     "data": {
      "text/html": [
       "<div>\n",
       "<style>\n",
       "    .dataframe thead tr:only-child th {\n",
       "        text-align: right;\n",
       "    }\n",
       "\n",
       "    .dataframe thead th {\n",
       "        text-align: left;\n",
       "    }\n",
       "\n",
       "    .dataframe tbody tr th {\n",
       "        vertical-align: top;\n",
       "    }\n",
       "</style>\n",
       "<table border=\"1\" class=\"dataframe\">\n",
       "  <thead>\n",
       "    <tr style=\"text-align: right;\">\n",
       "      <th></th>\n",
       "      <th>Category</th>\n",
       "      <th>Corr.</th>\n",
       "      <th>Size</th>\n",
       "    </tr>\n",
       "  </thead>\n",
       "  <tbody>\n",
       "    <tr>\n",
       "      <th>0</th>\n",
       "      <td>v00</td>\n",
       "      <td>11.00</td>\n",
       "      <td>15,275</td>\n",
       "    </tr>\n",
       "    <tr>\n",
       "      <th>1</th>\n",
       "      <td>v01</td>\n",
       "      <td>29.81</td>\n",
       "      <td>33,567</td>\n",
       "    </tr>\n",
       "  </tbody>\n",
       "</table>\n",
       "</div>"
      ],
      "text/plain": [
       "  Category  Corr.    Size\n",
       "0      v00  11.00  15,275\n",
       "1      v01  29.81  33,567"
      ]
     },
     "execution_count": 482,
     "metadata": {},
     "output_type": "execute_result"
    },
    {
     "data": {
      "image/png": "[encoded data removed]",
      "text/plain": [
       "<matplotlib.figure.Figure at 0x1a1eef68d0>"
      ]
     },
     "metadata": {},
     "output_type": "display_data"
    }
   ],
   "source": [
    "fig, ax = plt.subplots()\n",
    "# plotting x-axis and y-axis\n",
    "ax.bar(columns_f08, values_f08, bottom=baseline)\n",
    "# the black line on the graph is the mean correlation for all features (approx.(11k / 48k))\n",
    "ax.axhline(y=23.92, xmin=0, xmax=1, linewidth=2, color = 'k')\n",
    "ax.grid()\n",
    "# Annotations for Text of amount in each bin of unique values\n",
    "ax.annotate('size=15,275', xy=(-0.2, 10.35))\n",
    "ax.annotate('size=33,567', xy=(0.85, 29.95))\n",
    "ax.set_ylabel('Correlation')\n",
    "ax.set_xlabel('Category Value')\n",
    "ax.set_title('Feature 08 Correlation to Size Graph ')\n",
    "pivot_08_interest_df "
   ]
  },
  {
   "cell_type": "markdown",
   "metadata": {},
   "source": [
    "**Feature 08 Visual and Quantitative Evidence**\n",
    "- I created a Data Frame that contained the size and correlation of all unique values within this feature set that I deemed worthy\n",
    "  - I found what was worthy by searching for differences between the categories' sizes and their correlation to their individual labels\n",
    "- I also plotted the results of the DataFrame with the baseline being the mean label correlation for the entire dataset 23.92.\n",
    "- On top of each bar I made a record of the amount of each categorical value.\n",
    "- The y-axis showcases the correlation values, while the x-axis showcases what category has said correlation and size.\n",
    "***"
   ]
  },
  {
   "cell_type": "code",
   "execution_count": 483,
   "metadata": {
    "collapsed": true
   },
   "outputs": [],
   "source": [
    "# Creating DataFrame for Quantitative Evidence\n",
    "pivot_07_interest = [('v00', 11.70, '470'), ('v01', 26.93, '1,519'), ('v02', 12.08, '4,685'), ('v03', 12.32, '406'), ('v04', 25.40, '41,762') ]\n",
    "pivot_07_interest_df = pd.DataFrame (data = pivot_07_interest, columns = ['Category', 'Corr.', 'Size'])"
   ]
  },
  {
   "cell_type": "code",
   "execution_count": 484,
   "metadata": {
    "collapsed": true
   },
   "outputs": [],
   "source": [
    "# Qualitative Evidence\n",
    "%matplotlib inline\n",
    "import numpy as np\n",
    "import matplotlib.pyplot \n",
    "plt.style.use('seaborn-white')"
   ]
  },
  {
   "cell_type": "code",
   "execution_count": 485,
   "metadata": {
    "collapsed": true
   },
   "outputs": [],
   "source": [
    "import numpy as np\n",
    "# x-axis values\n",
    "columns_f07 = ['v00','v01','v02','v03','v04']\n",
    "# mean correlation for all features with respect to label\n",
    "baseline = 23.92\n",
    "# y-axis values\n",
    "values_f07 = [11.70-baseline, 26.93-baseline, 12.08-baseline, 12.32-baseline, 25.40-baseline]"
   ]
  },
  {
   "cell_type": "code",
   "execution_count": 529,
   "metadata": {},
   "outputs": [
    {
     "data": {
      "text/html": [
       "<div>\n",
       "<style>\n",
       "    .dataframe thead tr:only-child th {\n",
       "        text-align: right;\n",
       "    }\n",
       "\n",
       "    .dataframe thead th {\n",
       "        text-align: left;\n",
       "    }\n",
       "\n",
       "    .dataframe tbody tr th {\n",
       "        vertical-align: top;\n",
       "    }\n",
       "</style>\n",
       "<table border=\"1\" class=\"dataframe\">\n",
       "  <thead>\n",
       "    <tr style=\"text-align: right;\">\n",
       "      <th></th>\n",
       "      <th>Category</th>\n",
       "      <th>Corr.</th>\n",
       "      <th>Size</th>\n",
       "    </tr>\n",
       "  </thead>\n",
       "  <tbody>\n",
       "    <tr>\n",
       "      <th>0</th>\n",
       "      <td>v00</td>\n",
       "      <td>11.70</td>\n",
       "      <td>470</td>\n",
       "    </tr>\n",
       "    <tr>\n",
       "      <th>1</th>\n",
       "      <td>v01</td>\n",
       "      <td>26.93</td>\n",
       "      <td>1,519</td>\n",
       "    </tr>\n",
       "    <tr>\n",
       "      <th>2</th>\n",
       "      <td>v02</td>\n",
       "      <td>12.08</td>\n",
       "      <td>4,685</td>\n",
       "    </tr>\n",
       "    <tr>\n",
       "      <th>3</th>\n",
       "      <td>v03</td>\n",
       "      <td>12.32</td>\n",
       "      <td>406</td>\n",
       "    </tr>\n",
       "    <tr>\n",
       "      <th>4</th>\n",
       "      <td>v04</td>\n",
       "      <td>25.40</td>\n",
       "      <td>41,762</td>\n",
       "    </tr>\n",
       "  </tbody>\n",
       "</table>\n",
       "</div>"
      ],
      "text/plain": [
       "  Category  Corr.    Size\n",
       "0      v00  11.70     470\n",
       "1      v01  26.93   1,519\n",
       "2      v02  12.08   4,685\n",
       "3      v03  12.32     406\n",
       "4      v04  25.40  41,762"
      ]
     },
     "execution_count": 529,
     "metadata": {},
     "output_type": "execute_result"
    },
    {
     "data": {
      "image/png": "[encoded data removed]",
      "text/plain": [
       "<matplotlib.figure.Figure at 0x1a2047b518>"
      ]
     },
     "metadata": {},
     "output_type": "display_data"
    }
   ],
   "source": [
    "fig, ax = plt.subplots()\n",
    "# plotting x-axis and y-axis\n",
    "ax.bar(columns_f07, values_f07, bottom=baseline)\n",
    "# the black line on the graph is the mean correlation for all features (approx.(11k / 48k))\n",
    "ax.axhline(y=23.92, xmin=0, xmax=1, linewidth=2, color = 'k')\n",
    "ax.grid()\n",
    "# Annotations for Text of amount in each bin of unique values\n",
    "ax.annotate('size=470', xy=(-0.3, 11.15))\n",
    "ax.annotate('size=1,519', xy=(0.63, 26.955))\n",
    "ax.annotate('size=4,685', xy=(1.6, 11.5))\n",
    "ax.annotate('size=406', xy=(2.7, 11.8))\n",
    "ax.annotate('size=41,762', xy=(3.58, 25.5))\n",
    "ax.set_ylabel('Correlation')\n",
    "ax.set_xlabel('Category Value')\n",
    "ax.set_title('Feature 07 Correlation to Size Graph ')\n",
    "pivot_07_interest_df "
   ]
  },
  {
   "cell_type": "markdown",
   "metadata": {},
   "source": [
    "**Feature 07 Visual and Quantitative Evidence**\n",
    "- I created a Data Frame that contained the size and correlation of all unique values within this feature set that I deemed worthy\n",
    "  - I found what was worthy by searching for differences between the categories' sizes and their correlation to their individual labels\n",
    "- I also plotted the results of the DataFrame with the baseline being the mean label correlation for the entire dataset 23.92.\n",
    "- On top of each bar I made a record of the amount of each categorical value.\n",
    "- The y-axis showcases the correlation values, while the x-axis showcases what category has said correlation and size.\n",
    "***"
   ]
  },
  {
   "cell_type": "code",
   "execution_count": 530,
   "metadata": {
    "collapsed": true
   },
   "outputs": [],
   "source": [
    "# Creating DataFrame for Quantitative Evidence\n",
    "pivot_06_interest = [('v00', 44.87, '19,716'), ('v01', 10.14, '12,583'), ('v02', 3.45, '1,506'), ('v03', 1.46, '7,581'), ('v04', 6.03, '5,142'), ('v05', 46.89, '2,331')]\n",
    "pivot_06_interest_df = pd.DataFrame (data = pivot_06_interest, columns = ['Category', 'Corr.', 'Size'])"
   ]
  },
  {
   "cell_type": "code",
   "execution_count": 531,
   "metadata": {
    "collapsed": true
   },
   "outputs": [],
   "source": [
    "# Qualitative Evidence\n",
    "%matplotlib inline\n",
    "import numpy as np\n",
    "import matplotlib.pyplot \n",
    "plt.style.use('seaborn-white')"
   ]
  },
  {
   "cell_type": "code",
   "execution_count": 532,
   "metadata": {
    "collapsed": true
   },
   "outputs": [],
   "source": [
    "import numpy as np\n",
    "# x-axis values\n",
    "columns_f06 = ['v00','v01','v02','v03','v04','v05']\n",
    "# mean correlation for all features with respect to label\n",
    "baseline = 23.92\n",
    "# y-axis values\n",
    "values_f06 = [44.87-baseline, 10.14-baseline, 3.45-baseline, 1.46-baseline, 6.03-baseline, 46.89-baseline]"
   ]
  },
  {
   "cell_type": "code",
   "execution_count": 573,
   "metadata": {},
   "outputs": [
    {
     "data": {
      "text/html": [
       "<div>\n",
       "<style>\n",
       "    .dataframe thead tr:only-child th {\n",
       "        text-align: right;\n",
       "    }\n",
       "\n",
       "    .dataframe thead th {\n",
       "        text-align: left;\n",
       "    }\n",
       "\n",
       "    .dataframe tbody tr th {\n",
       "        vertical-align: top;\n",
       "    }\n",
       "</style>\n",
       "<table border=\"1\" class=\"dataframe\">\n",
       "  <thead>\n",
       "    <tr style=\"text-align: right;\">\n",
       "      <th></th>\n",
       "      <th>Category</th>\n",
       "      <th>Corr.</th>\n",
       "      <th>Size</th>\n",
       "    </tr>\n",
       "  </thead>\n",
       "  <tbody>\n",
       "    <tr>\n",
       "      <th>0</th>\n",
       "      <td>v00</td>\n",
       "      <td>44.87</td>\n",
       "      <td>19,716</td>\n",
       "    </tr>\n",
       "    <tr>\n",
       "      <th>1</th>\n",
       "      <td>v01</td>\n",
       "      <td>10.14</td>\n",
       "      <td>12,583</td>\n",
       "    </tr>\n",
       "    <tr>\n",
       "      <th>2</th>\n",
       "      <td>v02</td>\n",
       "      <td>3.45</td>\n",
       "      <td>1,506</td>\n",
       "    </tr>\n",
       "    <tr>\n",
       "      <th>3</th>\n",
       "      <td>v03</td>\n",
       "      <td>1.46</td>\n",
       "      <td>7,581</td>\n",
       "    </tr>\n",
       "    <tr>\n",
       "      <th>4</th>\n",
       "      <td>v04</td>\n",
       "      <td>6.03</td>\n",
       "      <td>5,142</td>\n",
       "    </tr>\n",
       "    <tr>\n",
       "      <th>5</th>\n",
       "      <td>v05</td>\n",
       "      <td>46.89</td>\n",
       "      <td>2,331</td>\n",
       "    </tr>\n",
       "  </tbody>\n",
       "</table>\n",
       "</div>"
      ],
      "text/plain": [
       "  Category  Corr.    Size\n",
       "0      v00  44.87  19,716\n",
       "1      v01  10.14  12,583\n",
       "2      v02   3.45   1,506\n",
       "3      v03   1.46   7,581\n",
       "4      v04   6.03   5,142\n",
       "5      v05  46.89   2,331"
      ]
     },
     "execution_count": 573,
     "metadata": {},
     "output_type": "execute_result"
    },
    {
     "data": {
      "image/png": "[encoded data removed]",
      "text/plain": [
       "<matplotlib.figure.Figure at 0x1a205cf940>"
      ]
     },
     "metadata": {},
     "output_type": "display_data"
    }
   ],
   "source": [
    "fig, ax = plt.subplots()\n",
    "# plotting x-axis and y-axis\n",
    "ax.bar(columns_f06, values_f06, bottom=baseline)\n",
    "# the black line on the graph is the mean correlation for all features (approx.(11k / 48k))\n",
    "ax.axhline(y=23.92, xmin=0, xmax=1, linewidth=2, color = 'k')\n",
    "ax.grid()\n",
    "# Annotations for Text of amount in each bin of unique values\n",
    "ax.annotate('size=19,716', xy=(-0.5, 46))\n",
    "ax.annotate('size=12,583', xy=(0.5, 8))\n",
    "ax.annotate('size=1,506', xy=(1.55, 1))\n",
    "ax.annotate('size=7,581', xy=(2.54, 0.1))\n",
    "ax.annotate('size=5,142', xy=(3.55, 4))\n",
    "ax.annotate('size=2,331', xy=(4.55, 47.5))\n",
    "ax.set_ylabel('Correlation')\n",
    "ax.set_xlabel('Category Value')\n",
    "ax.set_title('Feature 06 Correlation to Size Graph')\n",
    "pivot_06_interest_df "
   ]
  },
  {
   "cell_type": "markdown",
   "metadata": {},
   "source": [
    "**Feature 06 Visual and Quantitative Evidence**\n",
    "- I created a Data Frame that contained the size and correlation of all unique values within this feature set that I deemed worthy\n",
    "  - I found what was worthy by searching for differences between the categories' sizes and their correlation to their individual labels\n",
    "- I also plotted the results of the DataFrame with the baseline being the mean label correlation for the entire dataset 23.92.\n",
    "- On top of each bar I made a record of the amount of each categorical value.\n",
    "- The y-axis showcases the correlation values, while the x-axis showcases what category has said correlation and size.\n",
    "***"
   ]
  },
  {
   "cell_type": "code",
   "execution_count": 576,
   "metadata": {
    "collapsed": true
   },
   "outputs": [],
   "source": [
    "# Creating DataFrame for Quantitative Evidence\n",
    "pivot_05_interest = [('v01', 33.33, '15'), ('v03', 47.78, '6,086'), ('v07', 4.14, '4,923'), ('v09', 33.94, '8,981'), ('v10', 31.33, '983'), ('v11', 26.80, '5,504')]\n",
    "pivot_05_interest_df = pd.DataFrame (data = pivot_05_interest, columns = ['Category', 'Corr.', 'Size'])"
   ]
  },
  {
   "cell_type": "code",
   "execution_count": 577,
   "metadata": {
    "collapsed": true
   },
   "outputs": [],
   "source": [
    "# Qualitative Evidence\n",
    "%matplotlib inline\n",
    "import numpy as np\n",
    "import matplotlib.pyplot \n",
    "plt.style.use('seaborn-white')"
   ]
  },
  {
   "cell_type": "code",
   "execution_count": 578,
   "metadata": {
    "collapsed": true
   },
   "outputs": [],
   "source": [
    "import numpy as np\n",
    "# x-axis values\n",
    "columns_f05 = ['v01','v03','v07','v09','v10','v11']\n",
    "# mean correlation for all features with respect to label\n",
    "baseline = 23.92\n",
    "# y-axis values\n",
    "values_f05 = [33.33-baseline, 47.78-baseline, 4.14-baseline, 33.94-baseline, 31.33-baseline, 26.80-baseline]"
   ]
  },
  {
   "cell_type": "code",
   "execution_count": 613,
   "metadata": {},
   "outputs": [
    {
     "data": {
      "text/html": [
       "<div>\n",
       "<style>\n",
       "    .dataframe thead tr:only-child th {\n",
       "        text-align: right;\n",
       "    }\n",
       "\n",
       "    .dataframe thead th {\n",
       "        text-align: left;\n",
       "    }\n",
       "\n",
       "    .dataframe tbody tr th {\n",
       "        vertical-align: top;\n",
       "    }\n",
       "</style>\n",
       "<table border=\"1\" class=\"dataframe\">\n",
       "  <thead>\n",
       "    <tr style=\"text-align: right;\">\n",
       "      <th></th>\n",
       "      <th>Category</th>\n",
       "      <th>Corr.</th>\n",
       "      <th>Size</th>\n",
       "    </tr>\n",
       "  </thead>\n",
       "  <tbody>\n",
       "    <tr>\n",
       "      <th>0</th>\n",
       "      <td>v01</td>\n",
       "      <td>33.33</td>\n",
       "      <td>15</td>\n",
       "    </tr>\n",
       "    <tr>\n",
       "      <th>1</th>\n",
       "      <td>v03</td>\n",
       "      <td>47.78</td>\n",
       "      <td>6,086</td>\n",
       "    </tr>\n",
       "    <tr>\n",
       "      <th>2</th>\n",
       "      <td>v07</td>\n",
       "      <td>4.14</td>\n",
       "      <td>4,923</td>\n",
       "    </tr>\n",
       "    <tr>\n",
       "      <th>3</th>\n",
       "      <td>v09</td>\n",
       "      <td>33.94</td>\n",
       "      <td>8,981</td>\n",
       "    </tr>\n",
       "    <tr>\n",
       "      <th>4</th>\n",
       "      <td>v10</td>\n",
       "      <td>31.33</td>\n",
       "      <td>983</td>\n",
       "    </tr>\n",
       "    <tr>\n",
       "      <th>5</th>\n",
       "      <td>v11</td>\n",
       "      <td>26.80</td>\n",
       "      <td>5,504</td>\n",
       "    </tr>\n",
       "  </tbody>\n",
       "</table>\n",
       "</div>"
      ],
      "text/plain": [
       "  Category  Corr.   Size\n",
       "0      v01  33.33     15\n",
       "1      v03  47.78  6,086\n",
       "2      v07   4.14  4,923\n",
       "3      v09  33.94  8,981\n",
       "4      v10  31.33    983\n",
       "5      v11  26.80  5,504"
      ]
     },
     "execution_count": 613,
     "metadata": {},
     "output_type": "execute_result"
    },
    {
     "data": {
      "image/png": "[encoded data removed]",
      "text/plain": [
       "<matplotlib.figure.Figure at 0x1a1fc9a3c8>"
      ]
     },
     "metadata": {},
     "output_type": "display_data"
    }
   ],
   "source": [
    "fig, ax = plt.subplots()\n",
    "# plotting x-axis and y-axis\n",
    "ax.bar(columns_f05, values_f05, bottom=baseline)\n",
    "# the black line on the graph is the mean correlation for all features (approx.(11k / 48k))\n",
    "ax.axhline(y=23.92, xmin=0, xmax=1, linewidth=2, color = 'k')\n",
    "ax.grid()\n",
    "# Annotations for Text of amount in each bin of unique values\n",
    "ax.annotate('size=15', xy=(-0.3, 34))\n",
    "ax.annotate('size=6,086', xy=(0.54, 48.1))\n",
    "ax.annotate('size=4,923', xy=(1.54, 2.6))\n",
    "ax.annotate('size=8,981', xy=(2.54, 34.5))\n",
    "ax.annotate('size=983', xy=(3.62, 32))\n",
    "ax.annotate('size=5,504', xy=(4.55, 27.5))\n",
    "ax.set_ylabel('Correlation')\n",
    "ax.set_xlabel('Category Value')\n",
    "ax.set_title('Feature 05 Correlation to Size Graph')\n",
    "pivot_05_interest_df "
   ]
  },
  {
   "cell_type": "markdown",
   "metadata": {},
   "source": [
    "**Feature 05 Visual and Quantitative Evidence**\n",
    "- I created a Data Frame that contained the size and correlation of all unique values within this feature set that I deemed worthy\n",
    "  - I found what was worthy by searching for differences between the categories' sizes and their correlation to their individual labels\n",
    "- I also plotted the results of the DataFrame with the baseline being the mean label correlation for the entire dataset 23.92.\n",
    "- On top of each bar I made a record of the amount of each categorical value.\n",
    "- The y-axis showcases the correlation values, while the x-axis showcases what category has said correlation and size.\n",
    "***"
   ]
  },
  {
   "cell_type": "code",
   "execution_count": 614,
   "metadata": {
    "collapsed": true
   },
   "outputs": [],
   "source": [
    "# Quantitative Evidence\n",
    "pivot_04_interest = [('v00', 10.12, '6,633'), ('v01', 37.83, '37'), ('v02', 44.61, '22,379'), ('v03', 9.24, '628'), ('v04', 4.55, '16,117'), ('v05', 6.47, '1,530')]\n",
    "pivot_04_interest_df = pd.DataFrame (data = pivot_04_interest, columns = ['Category', 'Corr.', 'Size'])"
   ]
  },
  {
   "cell_type": "code",
   "execution_count": 615,
   "metadata": {
    "collapsed": true
   },
   "outputs": [],
   "source": [
    "# Qualitative Evidence\n",
    "%matplotlib inline\n",
    "import numpy as np\n",
    "import matplotlib.pyplot \n",
    "plt.style.use('seaborn-white')"
   ]
  },
  {
   "cell_type": "code",
   "execution_count": 616,
   "metadata": {
    "collapsed": true
   },
   "outputs": [],
   "source": [
    "import numpy as np\n",
    "# x-axis values\n",
    "columns_f04 = ['v00','v01','v02','v03','v04','v05']\n",
    "# mean correlation for all features with respect to label\n",
    "baseline = 23.92\n",
    "# y-axis values\n",
    "values_f04 = [10.12-baseline, 37.83-baseline, 44.61-baseline, 9.24-baseline, 4.55-baseline, 6.47-baseline]"
   ]
  },
  {
   "cell_type": "code",
   "execution_count": 642,
   "metadata": {},
   "outputs": [
    {
     "data": {
      "text/html": [
       "<div>\n",
       "<style>\n",
       "    .dataframe thead tr:only-child th {\n",
       "        text-align: right;\n",
       "    }\n",
       "\n",
       "    .dataframe thead th {\n",
       "        text-align: left;\n",
       "    }\n",
       "\n",
       "    .dataframe tbody tr th {\n",
       "        vertical-align: top;\n",
       "    }\n",
       "</style>\n",
       "<table border=\"1\" class=\"dataframe\">\n",
       "  <thead>\n",
       "    <tr style=\"text-align: right;\">\n",
       "      <th></th>\n",
       "      <th>Category</th>\n",
       "      <th>Corr.</th>\n",
       "      <th>Size</th>\n",
       "    </tr>\n",
       "  </thead>\n",
       "  <tbody>\n",
       "    <tr>\n",
       "      <th>0</th>\n",
       "      <td>v00</td>\n",
       "      <td>10.12</td>\n",
       "      <td>6,633</td>\n",
       "    </tr>\n",
       "    <tr>\n",
       "      <th>1</th>\n",
       "      <td>v01</td>\n",
       "      <td>37.83</td>\n",
       "      <td>37</td>\n",
       "    </tr>\n",
       "    <tr>\n",
       "      <th>2</th>\n",
       "      <td>v02</td>\n",
       "      <td>44.61</td>\n",
       "      <td>22,379</td>\n",
       "    </tr>\n",
       "    <tr>\n",
       "      <th>3</th>\n",
       "      <td>v03</td>\n",
       "      <td>9.24</td>\n",
       "      <td>628</td>\n",
       "    </tr>\n",
       "    <tr>\n",
       "      <th>4</th>\n",
       "      <td>v04</td>\n",
       "      <td>4.55</td>\n",
       "      <td>16,117</td>\n",
       "    </tr>\n",
       "    <tr>\n",
       "      <th>5</th>\n",
       "      <td>v05</td>\n",
       "      <td>6.47</td>\n",
       "      <td>1,530</td>\n",
       "    </tr>\n",
       "  </tbody>\n",
       "</table>\n",
       "</div>"
      ],
      "text/plain": [
       "  Category  Corr.    Size\n",
       "0      v00  10.12   6,633\n",
       "1      v01  37.83      37\n",
       "2      v02  44.61  22,379\n",
       "3      v03   9.24     628\n",
       "4      v04   4.55  16,117\n",
       "5      v05   6.47   1,530"
      ]
     },
     "execution_count": 642,
     "metadata": {},
     "output_type": "execute_result"
    },
    {
     "data": {
      "image/png": "[encoded data removed]",
      "text/plain": [
       "<matplotlib.figure.Figure at 0x1a22324fd0>"
      ]
     },
     "metadata": {},
     "output_type": "display_data"
    }
   ],
   "source": [
    "fig, ax = plt.subplots()\n",
    "# plotting x-axis and y-axis\n",
    "ax.bar(columns_f04, values_f04, bottom=baseline)\n",
    "# the black line on the graph is the mean correlation for all features (approx.(11k / 48k))\n",
    "ax.axhline(y=23.92, xmin=0, xmax=1, linewidth=2, color = 'k')\n",
    "ax.grid()\n",
    "# Annotations for Text of amount in each bin of unique values\n",
    "ax.annotate('size=6,633', xy=(-0.5, 8.5))\n",
    "ax.annotate('size=37', xy=(0.7, 38.5))\n",
    "ax.annotate('size=22,379', xy=(1.51, 45))\n",
    "ax.annotate('size=628', xy=(2.58, 7.5))\n",
    "ax.annotate('size=16,117', xy=(3.5, 3.2))\n",
    "ax.annotate('size=1,530', xy=(4.55, 5))\n",
    "ax.set_ylabel('Correlation')\n",
    "ax.set_xlabel('Category Value')\n",
    "ax.set_title('Feature 04 Correlation to Size Graph')\n",
    "pivot_04_interest_df "
   ]
  },
  {
   "cell_type": "markdown",
   "metadata": {},
   "source": [
    "**Feature 04 Visual and Quantitative Evidence**\n",
    "- I created a Data Frame that contained the size and correlation of all unique values within this feature set that I deemed worthy\n",
    "  - I found what was worthy by searching for differences between the categories' sizes and their correlation to their individual labels\n",
    "- I also plotted the results of the DataFrame with the baseline being the mean label correlation for the entire dataset 23.92.\n",
    "- On top of each bar I made a record of the amount of each categorical value.\n",
    "- The y-axis showcases the correlation values, while the x-axis showcases what category has said correlation and size.\n",
    "***"
   ]
  },
  {
   "cell_type": "code",
   "execution_count": 643,
   "metadata": {
    "collapsed": true
   },
   "outputs": [],
   "source": [
    "# Creating DataFrame Quantitative Evidence\n",
    "pivot_03_interest = [('4.9995', 12.93, '22,192'), ('9.5000', 18.96, '10,878'), ('11.0000', 25.53, '3,662'), ('14.0000', 48.06, '12,110')]\n",
    "pivot_03_interest_df = pd.DataFrame (data = pivot_03_interest, columns = ['Quantile', 'Corr.', 'Size'])"
   ]
  },
  {
   "cell_type": "code",
   "execution_count": 644,
   "metadata": {
    "collapsed": true
   },
   "outputs": [],
   "source": [
    "# Qualitative Evidence\n",
    "%matplotlib inline\n",
    "import numpy as np\n",
    "import matplotlib.pyplot \n",
    "plt.style.use('seaborn-white')"
   ]
  },
  {
   "cell_type": "code",
   "execution_count": 645,
   "metadata": {
    "collapsed": true
   },
   "outputs": [],
   "source": [
    "import numpy as np\n",
    "# x-axis values\n",
    "columns_f03 = ['4.9995','9.5000','11.0000','14.0000']\n",
    "# mean correlation for all features\n",
    "baseline = 23.92\n",
    "# y-axis values\n",
    "values_f03 = [12.93-baseline, 18.96-baseline, 25.53-baseline, 48.06-baseline]"
   ]
  },
  {
   "cell_type": "code",
   "execution_count": 676,
   "metadata": {},
   "outputs": [
    {
     "data": {
      "text/html": [
       "<div>\n",
       "<style>\n",
       "    .dataframe thead tr:only-child th {\n",
       "        text-align: right;\n",
       "    }\n",
       "\n",
       "    .dataframe thead th {\n",
       "        text-align: left;\n",
       "    }\n",
       "\n",
       "    .dataframe tbody tr th {\n",
       "        vertical-align: top;\n",
       "    }\n",
       "</style>\n",
       "<table border=\"1\" class=\"dataframe\">\n",
       "  <thead>\n",
       "    <tr style=\"text-align: right;\">\n",
       "      <th></th>\n",
       "      <th>Quantile</th>\n",
       "      <th>Corr.</th>\n",
       "      <th>Size</th>\n",
       "    </tr>\n",
       "  </thead>\n",
       "  <tbody>\n",
       "    <tr>\n",
       "      <th>0</th>\n",
       "      <td>4.9995</td>\n",
       "      <td>12.93</td>\n",
       "      <td>22,192</td>\n",
       "    </tr>\n",
       "    <tr>\n",
       "      <th>1</th>\n",
       "      <td>9.5000</td>\n",
       "      <td>18.96</td>\n",
       "      <td>10,878</td>\n",
       "    </tr>\n",
       "    <tr>\n",
       "      <th>2</th>\n",
       "      <td>11.0000</td>\n",
       "      <td>25.53</td>\n",
       "      <td>3,662</td>\n",
       "    </tr>\n",
       "    <tr>\n",
       "      <th>3</th>\n",
       "      <td>14.0000</td>\n",
       "      <td>48.06</td>\n",
       "      <td>12,110</td>\n",
       "    </tr>\n",
       "  </tbody>\n",
       "</table>\n",
       "</div>"
      ],
      "text/plain": [
       "  Quantile  Corr.    Size\n",
       "0   4.9995  12.93  22,192\n",
       "1   9.5000  18.96  10,878\n",
       "2  11.0000  25.53   3,662\n",
       "3  14.0000  48.06  12,110"
      ]
     },
     "execution_count": 676,
     "metadata": {},
     "output_type": "execute_result"
    },
    {
     "data": {
      "image/png": "[encoded data removed]",
      "text/plain": [
       "<matplotlib.figure.Figure at 0x1a1f1b8710>"
      ]
     },
     "metadata": {},
     "output_type": "display_data"
    }
   ],
   "source": [
    "fig, ax = plt.subplots()\n",
    "# plotting x-axis and y-axis\n",
    "ax.bar(columns_f03, values_f03, bottom=baseline)\n",
    "# the black line on the graph is the mean correlation for all features (approx.(11k / 48k))\n",
    "ax.axhline(y=23.92, xmin=0, xmax=1, linewidth=2, color = 'k')\n",
    "ax.grid()\n",
    "# Annotations for Text of amount in each bin \n",
    "ax.annotate('size=22,192', xy=(-0.3, 26))\n",
    "ax.annotate('size=10,878', xy=(0.65, 48.4))\n",
    "ax.annotate('size=3,662', xy=(1.7, 11.7))\n",
    "ax.annotate('size=12,110', xy=(2.65, 17.5))\n",
    "ax.set_ylabel('Correlation')\n",
    "ax.set_xlabel('Quantile')\n",
    "ax.set_title('Feature 03 Correlation to Size Graph ')\n",
    "pivot_03_interest_df "
   ]
  },
  {
   "cell_type": "markdown",
   "metadata": {},
   "source": [
    "**Feature 03 Visual and Quantitative Evidence**\n",
    "- I created a Data Frame that contained the size and correlation of all quantiles within this feature set that I deemed worthy\n",
    "  - I found what was worthy by searching for differences between the quantiles' sizes and their correlation to their individual labels\n",
    "- I also plotted the results of the DataFrame with the baseline being the mean label correlation for the entire dataset 23.92.\n",
    "- On top of each bar I made a record of the amount of each quantile.\n",
    "- The y-axis showcases the correlation values, while the x-axis showcases what quantile has said correlation and size.\n",
    "***"
   ]
  },
  {
   "cell_type": "code",
   "execution_count": 681,
   "metadata": {
    "collapsed": true
   },
   "outputs": [],
   "source": [
    "# Creation of DataFrame Quantitative Evidence\n",
    "pivot_02_interest = [('v09', 41.24, '7,594'), ('v10', 72.16, '564'), ('v11', 17.10, '17,603'), ('v12', 54.89, '2,507'), ('v14', 74.01, '785'), ('v15', 18.99, '10,287')]\n",
    "pivot_02_interest_df = pd.DataFrame (data = pivot_02_interest, columns = ['Category', 'Corr.', 'Size'])"
   ]
  },
  {
   "cell_type": "code",
   "execution_count": 678,
   "metadata": {
    "collapsed": true
   },
   "outputs": [],
   "source": [
    "# Qualitative Evidence\n",
    "%matplotlib inline\n",
    "import numpy as np\n",
    "import matplotlib.pyplot \n",
    "plt.style.use('seaborn-white')"
   ]
  },
  {
   "cell_type": "code",
   "execution_count": 679,
   "metadata": {
    "collapsed": true
   },
   "outputs": [],
   "source": [
    "import numpy as np\n",
    "# x-axis values\n",
    "columns_f02 = ['v09','v10','v11','v12','v14','v15']\n",
    "# mean correlation for all features\n",
    "baseline = 23.92\n",
    "# y-axis values\n",
    "values_f02 = [41.24-baseline, 72.16-baseline, 17.10-baseline, 54.89-baseline, 74.01-baseline, 18.99-baseline]"
   ]
  },
  {
   "cell_type": "code",
   "execution_count": 714,
   "metadata": {},
   "outputs": [
    {
     "data": {
      "text/html": [
       "<div>\n",
       "<style>\n",
       "    .dataframe thead tr:only-child th {\n",
       "        text-align: right;\n",
       "    }\n",
       "\n",
       "    .dataframe thead th {\n",
       "        text-align: left;\n",
       "    }\n",
       "\n",
       "    .dataframe tbody tr th {\n",
       "        vertical-align: top;\n",
       "    }\n",
       "</style>\n",
       "<table border=\"1\" class=\"dataframe\">\n",
       "  <thead>\n",
       "    <tr style=\"text-align: right;\">\n",
       "      <th></th>\n",
       "      <th>Category</th>\n",
       "      <th>Corr.</th>\n",
       "      <th>Size</th>\n",
       "    </tr>\n",
       "  </thead>\n",
       "  <tbody>\n",
       "    <tr>\n",
       "      <th>0</th>\n",
       "      <td>v09</td>\n",
       "      <td>41.24</td>\n",
       "      <td>7,594</td>\n",
       "    </tr>\n",
       "    <tr>\n",
       "      <th>1</th>\n",
       "      <td>v10</td>\n",
       "      <td>72.16</td>\n",
       "      <td>564</td>\n",
       "    </tr>\n",
       "    <tr>\n",
       "      <th>2</th>\n",
       "      <td>v11</td>\n",
       "      <td>17.10</td>\n",
       "      <td>17,603</td>\n",
       "    </tr>\n",
       "    <tr>\n",
       "      <th>3</th>\n",
       "      <td>v12</td>\n",
       "      <td>54.89</td>\n",
       "      <td>2,507</td>\n",
       "    </tr>\n",
       "    <tr>\n",
       "      <th>4</th>\n",
       "      <td>v014</td>\n",
       "      <td>74.01</td>\n",
       "      <td>785</td>\n",
       "    </tr>\n",
       "    <tr>\n",
       "      <th>5</th>\n",
       "      <td>v15</td>\n",
       "      <td>18.99</td>\n",
       "      <td>10,287</td>\n",
       "    </tr>\n",
       "  </tbody>\n",
       "</table>\n",
       "</div>"
      ],
      "text/plain": [
       "  Category  Corr.    Size\n",
       "0      v09  41.24   7,594\n",
       "1      v10  72.16     564\n",
       "2      v11  17.10  17,603\n",
       "3      v12  54.89   2,507\n",
       "4     v014  74.01     785\n",
       "5      v15  18.99  10,287"
      ]
     },
     "execution_count": 714,
     "metadata": {},
     "output_type": "execute_result"
    },
    {
     "data": {
      "image/png": "[encoded data removed]",
      "text/plain": [
       "<matplotlib.figure.Figure at 0x1a1f86af60>"
      ]
     },
     "metadata": {},
     "output_type": "display_data"
    }
   ],
   "source": [
    "fig, ax = plt.subplots()\n",
    "# plotting x-axis and y-axis\n",
    "ax.bar(columns_f02, values_f02, bottom=baseline)\n",
    "# the black line on the graph is the mean correlation for all features (approx.(11k / 48k))\n",
    "ax.axhline(y=23.92, xmin=0, xmax=1, linewidth=2, color = 'k')\n",
    "ax.grid()\n",
    "# Annotations for Text of amount in each bin of unique values\n",
    "ax.annotate('size=7,594', xy=(-0.45, 42.5))\n",
    "ax.annotate('size=564', xy=(0.6, 73))\n",
    "ax.annotate('size=17,603', xy=(1.51, 15))\n",
    "ax.annotate('size=2,507', xy=(2.57, 56))\n",
    "ax.annotate('size=785', xy=(3.63, 74.5))\n",
    "ax.annotate('size=10,287', xy=(4.455, 16.5))\n",
    "ax.set_ylabel('Correlation')\n",
    "ax.set_xlabel('Category Value')\n",
    "ax.set_title('Feature 02 Correlation to Size Graph')\n",
    "pivot_02_interest_df "
   ]
  },
  {
   "cell_type": "markdown",
   "metadata": {},
   "source": [
    "**Feature 02 Visual and Quantitative Evidence**\n",
    "- I created a Data Frame that contained the size and correlation of all unique values within this feature set that I deemed worthy\n",
    "  - I found what was worthy by searching for differences between the categories' sizes and their correlation to their individual labels\n",
    "- I also plotted the results of the DataFrame with the baseline being the mean label correlation for the entire dataset 23.92.\n",
    "- On top of each bar I made a record of the amount of each categorical value.\n",
    "- The y-axis showcases the correlation values, while the x-axis showcases what category has said correlation and size.\n",
    "***"
   ]
  },
  {
   "cell_type": "code",
   "execution_count": 715,
   "metadata": {
    "collapsed": true
   },
   "outputs": [],
   "source": [
    "# Creation of DataFrame Quantitve Evidence\n",
    "pivot_01_interest = [('v00', 39.18, '1,432'), ('v01', 29.56, '3,136'), ('v03', 20.85, '36,705'), ('v04', 55.34, '1,695'), ('v05', 27.89, '3,862'), ('v06', 26.75, '1,981')]\n",
    "pivot_01_interest_df = pd.DataFrame (data = pivot_01_interest, columns = ['Category', 'Corr.', 'Size'])"
   ]
  },
  {
   "cell_type": "code",
   "execution_count": 716,
   "metadata": {
    "collapsed": true
   },
   "outputs": [],
   "source": [
    "# Qualitative Evidence\n",
    "%matplotlib inline\n",
    "import numpy as np\n",
    "import matplotlib.pyplot \n",
    "plt.style.use('seaborn-white')"
   ]
  },
  {
   "cell_type": "code",
   "execution_count": 717,
   "metadata": {
    "collapsed": true
   },
   "outputs": [],
   "source": [
    "import numpy as np\n",
    "# x-axis values\n",
    "columns_f01 = ['v00','v01','v03','v04','v05','v06']\n",
    "# mean correlation in respect to all features\n",
    "baseline = 23.92\n",
    "values_f01 = [39.18-baseline, 29.56-baseline, 20.85-baseline, 55.34-baseline, 27.89-baseline, 26.75-baseline]"
   ]
  },
  {
   "cell_type": "code",
   "execution_count": 749,
   "metadata": {},
   "outputs": [
    {
     "data": {
      "text/html": [
       "<div>\n",
       "<style>\n",
       "    .dataframe thead tr:only-child th {\n",
       "        text-align: right;\n",
       "    }\n",
       "\n",
       "    .dataframe thead th {\n",
       "        text-align: left;\n",
       "    }\n",
       "\n",
       "    .dataframe tbody tr th {\n",
       "        vertical-align: top;\n",
       "    }\n",
       "</style>\n",
       "<table border=\"1\" class=\"dataframe\">\n",
       "  <thead>\n",
       "    <tr style=\"text-align: right;\">\n",
       "      <th></th>\n",
       "      <th>Category</th>\n",
       "      <th>Corr.</th>\n",
       "      <th>Size</th>\n",
       "    </tr>\n",
       "  </thead>\n",
       "  <tbody>\n",
       "    <tr>\n",
       "      <th>0</th>\n",
       "      <td>v00</td>\n",
       "      <td>39.18</td>\n",
       "      <td>1,432</td>\n",
       "    </tr>\n",
       "    <tr>\n",
       "      <th>1</th>\n",
       "      <td>v01</td>\n",
       "      <td>29.56</td>\n",
       "      <td>3,136</td>\n",
       "    </tr>\n",
       "    <tr>\n",
       "      <th>2</th>\n",
       "      <td>v03</td>\n",
       "      <td>20.85</td>\n",
       "      <td>36,705</td>\n",
       "    </tr>\n",
       "    <tr>\n",
       "      <th>3</th>\n",
       "      <td>v04</td>\n",
       "      <td>55.34</td>\n",
       "      <td>1,695</td>\n",
       "    </tr>\n",
       "    <tr>\n",
       "      <th>4</th>\n",
       "      <td>v05</td>\n",
       "      <td>27.89</td>\n",
       "      <td>3,862</td>\n",
       "    </tr>\n",
       "    <tr>\n",
       "      <th>5</th>\n",
       "      <td>v06</td>\n",
       "      <td>26.75</td>\n",
       "      <td>1,981</td>\n",
       "    </tr>\n",
       "  </tbody>\n",
       "</table>\n",
       "</div>"
      ],
      "text/plain": [
       "  Category  Corr.    Size\n",
       "0      v00  39.18   1,432\n",
       "1      v01  29.56   3,136\n",
       "2      v03  20.85  36,705\n",
       "3      v04  55.34   1,695\n",
       "4      v05  27.89   3,862\n",
       "5      v06  26.75   1,981"
      ]
     },
     "execution_count": 749,
     "metadata": {},
     "output_type": "execute_result"
    },
    {
     "data": {
      "image/png": "[encoded data removed]",
      "text/plain": [
       "<matplotlib.figure.Figure at 0x1a1f1bf908>"
      ]
     },
     "metadata": {},
     "output_type": "display_data"
    }
   ],
   "source": [
    "fig, ax = plt.subplots()\n",
    "# ploting the x-axis and y-axis\n",
    "ax.bar(columns_f01, values_f01, bottom=baseline)\n",
    "# the black line on the graph is the mean correlation for all features (approx.(11k / 48k))\n",
    "ax.axhline(y=23.92, xmin=0, xmax=1, linewidth=2, color = 'k')\n",
    "ax.grid()\n",
    "# Text annotations for amount in each bin of unique values\n",
    "ax.annotate('size=1,432', xy=(-0.45, 40))\n",
    "ax.annotate('size=3,136', xy=(0.55, 30.5))\n",
    "ax.annotate('size=36,705', xy=(1.51, 19.6))\n",
    "ax.annotate('size=1,695', xy=(2.56, 55.55))\n",
    "ax.annotate('size=3,862', xy=(3.55, 28.5))\n",
    "ax.annotate('size=1,981', xy=(4.55, 27.3))\n",
    "ax.set_ylabel('Correlation')\n",
    "ax.set_xlabel('Category Value')\n",
    "ax.set_title('Feature 01 Correlation to Size Graph')\n",
    "pivot_01_interest_df"
   ]
  },
  {
   "cell_type": "markdown",
   "metadata": {},
   "source": [
    "**Feature 01 Visual and Quantitative Evidence**\n",
    "- I created a Data Frame that contained the size and correlation of all unique values within this feature set that I deemed worthy\n",
    "  - I found what was worthy by searching for differences between the categories' sizes and their correlation to their individual labels\n",
    "- I also plotted the results of the DataFrame with the baseline being the mean label correlation for the entire dataset 23.92.\n",
    "- On top of each bar I made a record of the amount of each categorical value.\n",
    "- The y-axis showcases the correlation values, while the x-axis showcases what category has said correlation and size.\n",
    "***"
   ]
  },
  {
   "cell_type": "code",
   "execution_count": 750,
   "metadata": {
    "collapsed": true
   },
   "outputs": [],
   "source": [
    "# Creating DataFrame for feature 00 Quantitative Evidence\n",
    "pivot_00_interest = [('22.4995', 28.58, '12,326'), ('32.5000', 27.47, '11,518'), ('42.5000', 24.12, '11,681'), ('69.0000', 16.39, '13,317')]\n",
    "pivot_00_interest_df = pd.DataFrame (data = pivot_00_interest, columns = ['Quantile', 'Corr.', 'Size'])"
   ]
  },
  {
   "cell_type": "code",
   "execution_count": 751,
   "metadata": {
    "collapsed": true
   },
   "outputs": [],
   "source": [
    "# Qualitative Evidence\n",
    "%matplotlib inline\n",
    "import numpy as np\n",
    "import matplotlib.pyplot \n",
    "plt.style.use('seaborn-white')"
   ]
  },
  {
   "cell_type": "code",
   "execution_count": 752,
   "metadata": {
    "collapsed": true
   },
   "outputs": [],
   "source": [
    "import numpy as np\n",
    "# y-axis values\n",
    "columns_f00 = ['22.4995','32.5000','42.5000','69.0000']\n",
    "# mean correlation for whole dataset in relation to label\n",
    "baseline = 23.92\n",
    "# x-axis values\n",
    "values_f00 = [28.58-baseline, 27.47-baseline, 24.12-baseline, 16.39-baseline]"
   ]
  },
  {
   "cell_type": "code",
   "execution_count": 786,
   "metadata": {},
   "outputs": [
    {
     "data": {
      "text/html": [
       "<div>\n",
       "<style>\n",
       "    .dataframe thead tr:only-child th {\n",
       "        text-align: right;\n",
       "    }\n",
       "\n",
       "    .dataframe thead th {\n",
       "        text-align: left;\n",
       "    }\n",
       "\n",
       "    .dataframe tbody tr th {\n",
       "        vertical-align: top;\n",
       "    }\n",
       "</style>\n",
       "<table border=\"1\" class=\"dataframe\">\n",
       "  <thead>\n",
       "    <tr style=\"text-align: right;\">\n",
       "      <th></th>\n",
       "      <th>Quantile</th>\n",
       "      <th>Corr.</th>\n",
       "      <th>Size</th>\n",
       "    </tr>\n",
       "  </thead>\n",
       "  <tbody>\n",
       "    <tr>\n",
       "      <th>0</th>\n",
       "      <td>22.4995</td>\n",
       "      <td>28.58</td>\n",
       "      <td>12,326</td>\n",
       "    </tr>\n",
       "    <tr>\n",
       "      <th>1</th>\n",
       "      <td>32.5000</td>\n",
       "      <td>27.47</td>\n",
       "      <td>11,518</td>\n",
       "    </tr>\n",
       "    <tr>\n",
       "      <th>2</th>\n",
       "      <td>42.5000</td>\n",
       "      <td>24.12</td>\n",
       "      <td>11,681</td>\n",
       "    </tr>\n",
       "    <tr>\n",
       "      <th>3</th>\n",
       "      <td>69.0000</td>\n",
       "      <td>16.39</td>\n",
       "      <td>13,317</td>\n",
       "    </tr>\n",
       "  </tbody>\n",
       "</table>\n",
       "</div>"
      ],
      "text/plain": [
       "  Quantile  Corr.    Size\n",
       "0  22.4995  28.58  12,326\n",
       "1  32.5000  27.47  11,518\n",
       "2  42.5000  24.12  11,681\n",
       "3  69.0000  16.39  13,317"
      ]
     },
     "execution_count": 786,
     "metadata": {},
     "output_type": "execute_result"
    },
    {
     "data": {
      "image/png": "[encoded data removed]",
      "text/plain": [
       "<matplotlib.figure.Figure at 0x1a1f9bcef0>"
      ]
     },
     "metadata": {},
     "output_type": "display_data"
    }
   ],
   "source": [
    "fig, ax = plt.subplots()\n",
    "ax.bar(columns_f00, values_f00, bottom=baseline)\n",
    "# the black line on the graph is the mean correlation for all features (approx.(11k / 48k))\n",
    "ax.axhline(y=23.92, xmin=0, xmax=1, linewidth=2, color = 'k')\n",
    "ax.grid()\n",
    "# Text annotations for the amount of values in each bin\n",
    "ax.annotate('size=12,326', xy=(-0.35, 28.65))\n",
    "ax.annotate('size=11,518', xy=(0.65, 27.6))\n",
    "ax.annotate('size=11,681', xy=(1.65, 24.3))\n",
    "ax.annotate('size=13,317', xy=(2.65, 15.95))\n",
    "ax.set_ylabel('Correlation')\n",
    "ax.set_xlabel('Quantile')\n",
    "ax.set_title('Feature 00 Correlation to Size Graph')\n",
    "pivot_00_interest_df"
   ]
  },
  {
   "cell_type": "markdown",
   "metadata": {},
   "source": [
    "**Feature 00 Visual and Quantitative Evidence**\n",
    "- I created a Data Frame that contained the size and correlation of all quantiles within this feature set that I deemed worthy\n",
    "  - I found what was worthy by searching for differences between the quantiles' sizes and their correlation to their individual labels\n",
    "- I also plotted the results of the DataFrame with the baseline being the mean label correlation for the entire dataset 23.92.\n",
    "- On top of each bar I made a record of the amount of each quantile.\n",
    "- The y-axis showcases the correlation values, while the x-axis showcases what quantile has said correlation and size.\n",
    "***\n",
    "***"
   ]
  },
  {
   "cell_type": "markdown",
   "metadata": {},
   "source": [
    "***\n",
    "**Part 3**\n",
    "- I used a DictVectorizer to reduce the dimensions of the data I got directly from the csv created in part 1\n",
    "- Once the dimensions were reduced I used Kneighbors Model, Naive Bayes Model, SVC Model, Decision Tree Model, Random Forest Model.\n",
    "- I finally came up with a model (SVC) that gave me 83% accuracy in a five fold cross-validation.\n",
    "- Hyperparameters:\n",
    "  - I split the dataset up into Xtrain, Xtest, ytrain, ytest\n",
    "  - I completed a 5 fold cross-validation\n",
    "***"
   ]
  },
  {
   "cell_type": "code",
   "execution_count": 1,
   "metadata": {
    "collapsed": true
   },
   "outputs": [],
   "source": [
    "import pandas as pd\n",
    "df = pd.read_csv('data.csv', index_col='iD')"
   ]
  },
  {
   "cell_type": "code",
   "execution_count": 2,
   "metadata": {
    "collapsed": true
   },
   "outputs": [],
   "source": [
    "df_drop_label = df"
   ]
  },
  {
   "cell_type": "code",
   "execution_count": 3,
   "metadata": {
    "collapsed": true
   },
   "outputs": [],
   "source": [
    "features_df = df_drop_label.drop('label', axis=1)\n"
   ]
  },
  {
   "cell_type": "code",
   "execution_count": 4,
   "metadata": {
    "collapsed": true
   },
   "outputs": [],
   "source": [
    "x_new = features_df.to_dict('records')"
   ]
  },
  {
   "cell_type": "code",
   "execution_count": 5,
   "metadata": {
    "collapsed": true
   },
   "outputs": [],
   "source": [
    "from sklearn.feature_extraction import DictVectorizer  \n",
    "vec = DictVectorizer(sparse=False)\n",
    "b = vec.fit_transform(x_new)\n",
    "b_list = b"
   ]
  },
  {
   "cell_type": "code",
   "execution_count": 6,
   "metadata": {
    "collapsed": true
   },
   "outputs": [],
   "source": [
    "vec = DictVectorizer(sparse=True, dtype=int)\n",
    "b_list = vec.fit_transform(x_new)"
   ]
  },
  {
   "cell_type": "code",
   "execution_count": 7,
   "metadata": {
    "collapsed": true
   },
   "outputs": [],
   "source": [
    "X = b_list\n",
    "y = df['label'].values"
   ]
  },
  {
   "cell_type": "code",
   "execution_count": 8,
   "metadata": {
    "collapsed": true
   },
   "outputs": [],
   "source": [
    "from sklearn.decomposition import TruncatedSVD \n",
    "svd = TruncatedSVD(n_components=2)\n",
    "new_data = svd.fit(X)"
   ]
  },
  {
   "cell_type": "code",
   "execution_count": 11,
   "metadata": {
    "collapsed": true
   },
   "outputs": [],
   "source": [
    "apple = svd.fit_transform(X)"
   ]
  },
  {
   "cell_type": "code",
   "execution_count": 12,
   "metadata": {
    "collapsed": true
   },
   "outputs": [],
   "source": [
    "from sklearn.model_selection import train_test_split\n",
    "Xtrain, Xtest, ytrain, ytest = train_test_split(apple, y,\n",
    "                                                random_state=1)"
   ]
  },
  {
   "cell_type": "code",
   "execution_count": 13,
   "metadata": {
    "collapsed": true
   },
   "outputs": [],
   "source": [
    "from sklearn.cluster import KMeans\n",
    "from sklearn import cluster\n",
    "from sklearn import svm"
   ]
  },
  {
   "cell_type": "code",
   "execution_count": 16,
   "metadata": {},
   "outputs": [],
   "source": [
    "model_SVC = svm.SVC(C=3, max_iter=-1)"
   ]
  },
  {
   "cell_type": "code",
   "execution_count": 17,
   "metadata": {},
   "outputs": [
    {
     "data": {
      "text/plain": [
       "SVC(C=3, cache_size=200, class_weight=None, coef0=0.0,\n",
       "  decision_function_shape='ovr', degree=3, gamma='auto', kernel='rbf',\n",
       "  max_iter=-1, probability=False, random_state=None, shrinking=True,\n",
       "  tol=0.001, verbose=False)"
      ]
     },
     "execution_count": 17,
     "metadata": {},
     "output_type": "execute_result"
    }
   ],
   "source": [
    "model_SVC.fit(Xtrain, ytrain)"
   ]
  },
  {
   "cell_type": "code",
   "execution_count": 19,
   "metadata": {},
   "outputs": [
    {
     "name": "stderr",
     "output_type": "stream",
     "text": [
      "/Users/jon/miniconda3/lib/python3.6/site-packages/sklearn/cross_validation.py:41: DeprecationWarning: This module was deprecated in version 0.18 in favor of the model_selection module into which all the refactored classes and functions are moved. Also note that the interface of the new CV iterators are different from that of this module. This module will be removed in 0.20.\n",
      "  \"This module will be removed in 0.20.\", DeprecationWarning)\n"
     ]
    }
   ],
   "source": [
    "from sklearn.cross_validation import cross_val_score\n",
    "scores = cross_val_score(model_SVC, Xtest, ytest, cv=5)"
   ]
  },
  {
   "cell_type": "code",
   "execution_count": 20,
   "metadata": {},
   "outputs": [
    {
     "data": {
      "text/plain": [
       "0.83261050283396565"
      ]
     },
     "execution_count": 20,
     "metadata": {},
     "output_type": "execute_result"
    }
   ],
   "source": [
    "scores.mean()"
   ]
  }
 ],
 "metadata": {
  "kernelspec": {
   "display_name": "Python 3",
   "language": "python",
   "name": "python3"
  },
  "language_info": {
   "codemirror_mode": {
    "name": "ipython",
    "version": 3
   },
   "file_extension": ".py",
   "mimetype": "text/x-python",
   "name": "python",
   "nbconvert_exporter": "python",
   "pygments_lexer": "ipython3",
   "version": "3.6.1"
  }
 },
 "nbformat": 4,
 "nbformat_minor": 2
}
